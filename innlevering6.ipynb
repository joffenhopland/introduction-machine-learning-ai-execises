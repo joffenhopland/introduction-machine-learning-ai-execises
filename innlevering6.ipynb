{
 "cells": [
  {
   "cell_type": "raw",
   "metadata": {},
   "source": [
    "The following dict represents a number of fictional planets. Each key in the dict is the name of a planet, while the value, in this case another dict, represents planets you can travel to from this planets. The values inside the inner dicts represents the fuel cost associated with travelling to these planets. You want to optimize the fuel cost when travelling between planets, and so you turn to Dijkstra's algorithm."
   ]
  },
  {
   "cell_type": "code",
   "execution_count": 12,
   "metadata": {},
   "outputs": [],
   "source": [
    "graph = {\n",
    "    'aranos': {'barlow': 14, 'daxx': 7, 'yeedil': 9},\n",
    "    'boldan': {'barlow': 9, 'oozla': 6},\n",
    "    'barlow': {'aranos': 14, 'boldan': 9, 'yeedil': 2},\n",
    "    'daxx': {'aranos': 7, 'yeedil': 10, 'oozla': 16},\n",
    "    'yeedil': {'aranos': 9, 'barlow': 2, 'daxx': 10, 'oozla': 11},\n",
    "    'oozla': {'boldan': 6, 'daxx': 15, 'yeedil': 11},\n",
    "}"
   ]
  },
  {
   "cell_type": "raw",
   "metadata": {},
   "source": [
    "Write a function that uses Dijkstra's algorithm to find the shortest path between 2 nodes in a graph represented by a dict of dicts. Using your function, print the shortest path(nodes visited) and cost between:\n",
    "a) from Aranos to Boldan\n",
    "b) from Barlow to Aranos\n",
    "c) from Daxx to Boldan"
   ]
  },
  {
   "cell_type": "code",
   "execution_count": 13,
   "metadata": {},
   "outputs": [
    {
     "name": "stdout",
     "output_type": "stream",
     "text": [
      "a)\n",
      "Shortest path is: ['aranos', 'yeedil', 'barlow', 'boldan']\n",
      "Cost between the nodes: 20\n",
      "\n",
      "b)\n",
      "Shortest path is: ['barlow', 'yeedil', 'aranos']\n",
      "Cost between the nodes: 11\n",
      "\n",
      "c)\n",
      "Shortest path is: ['daxx', 'yeedil', 'barlow', 'boldan']\n",
      "Cost between the nodes: 21\n"
     ]
    }
   ],
   "source": [
    "import math\n",
    "\n",
    "def Dijkstra(graph, start_node, goal_node):\n",
    "        shortest_path = {} \n",
    "        previous_nodes = {} \n",
    "        unvisited_nodes = graph.copy() \n",
    "        tracked_path = []\n",
    "\n",
    "        infinity = math.inf\n",
    "        for node in unvisited_nodes:\n",
    "                shortest_path[node] = infinity\n",
    "        shortest_path[start_node] = 0                \n",
    "        # print(f'One: {shortest_path}')\n",
    "\n",
    "        \n",
    "        while unvisited_nodes:\n",
    "                current_min_node = None\n",
    "                for node in unvisited_nodes:\n",
    "                        if current_min_node is None:\n",
    "                                current_min_node = node\n",
    "                        elif shortest_path[node]< shortest_path[current_min_node]:\n",
    "                                current_min_node = node\n",
    "                \n",
    "                path_options = graph[current_min_node].items()\n",
    "                # print(f'Two: {path_options}')\n",
    "\n",
    "                \n",
    "                for children, weight in path_options:\n",
    "                        if weight + shortest_path[current_min_node]< shortest_path[children]:\n",
    "                                shortest_path[children]=weight + shortest_path[current_min_node]\n",
    "                                previous_nodes[children]=current_min_node\n",
    "\n",
    "                \n",
    "                unvisited_nodes.pop(current_min_node)\n",
    "\n",
    "                \n",
    "        current_node = goal_node\n",
    "\n",
    "        \n",
    "        while current_node != start_node:\n",
    "                try:\n",
    "                        tracked_path.insert(0, current_node)\n",
    "                        # print(f'Three: {tracked_path}')\n",
    "\n",
    "                        current_node = previous_nodes[current_node]\n",
    "                        # print(f'Four: {current_node}')\n",
    "\n",
    "                        \n",
    "                except KeyError:\n",
    "                        print(\"You cannot reach the destination planet\")\n",
    "                        exit()\n",
    "                        \n",
    "        tracked_path.insert(0,start_node)\n",
    "        \n",
    "        if shortest_path[goal_node] != infinity:\n",
    "                print(\"Shortest path is: \"+ str(tracked_path))\n",
    "                print(\"Cost between the nodes: \"+ str(shortest_path[goal_node]))\n",
    "\n",
    "if __name__ == \"__main__\":\n",
    "\n",
    "    graph = {\n",
    "    'aranos': {'barlow': 14, 'daxx': 7, 'yeedil': 9},\n",
    "    'boldan': {'barlow': 9, 'oozla': 6},\n",
    "    'barlow': {'aranos': 14, 'boldan': 9, 'yeedil': 2},\n",
    "    'daxx': {'aranos': 7, 'yeedil': 10, 'oozla': 16},\n",
    "    'yeedil': {'aranos': 9, 'barlow': 2, 'daxx': 10, 'oozla': 11},\n",
    "    'oozla': {'boldan': 6, 'daxx': 15, 'yeedil': 11},\n",
    "    }\n",
    "\n",
    "    print(\"a)\")\n",
    "    Dijkstra(graph,\"aranos\", \"boldan\")\n",
    "    print(\"\\nb)\")\n",
    "    Dijkstra(graph,\"barlow\", \"aranos\")\n",
    "    print(\"\\nc)\")\n",
    "    Dijkstra(graph,\"daxx\", \"boldan\")"
   ]
  }
 ],
 "metadata": {
  "kernelspec": {
   "display_name": "Python 3 (ipykernel)",
   "language": "python",
   "name": "python3"
  },
  "language_info": {
   "codemirror_mode": {
    "name": "ipython",
    "version": 3
   },
   "file_extension": ".py",
   "mimetype": "text/x-python",
   "name": "python",
   "nbconvert_exporter": "python",
   "pygments_lexer": "ipython3",
   "version": "3.10.6"
  }
 },
 "nbformat": 4,
 "nbformat_minor": 4
}
