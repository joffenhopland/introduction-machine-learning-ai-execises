{
 "cells": [
  {
   "cell_type": "markdown",
   "id": "f9796be6-7d48-4ab8-b148-1b899b91e95a",
   "metadata": {},
   "source": [
    "# Week 2 exercises"
   ]
  },
  {
   "cell_type": "code",
   "execution_count": 1,
   "id": "08e77aeb-212c-451b-ab59-1e4c028cdf89",
   "metadata": {},
   "outputs": [],
   "source": [
    "# Imports\n",
    "import random\n",
    "import string\n",
    "import time\n",
    "import numpy as np\n",
    "import matplotlib.pyplot as plt"
   ]
  },
  {
   "cell_type": "markdown",
   "id": "4b100967-62bc-409a-b04f-00e42c7de462",
   "metadata": {},
   "source": [
    "## Exercise 1"
   ]
  },
  {
   "cell_type": "markdown",
   "id": "b67df736-4844-43f2-ab36-35155c9bca85",
   "metadata": {},
   "source": [
    "#### Devise an experiment to discover the complexity of comparing strings in Python. Does the size of the string affect the efficiency of the string comparison and if so, what is the complexity of the comparison? In this experiment you might want to consider a best case, worst case, and average case complexity. Write a program that produces an XML file with your results in the format specified in this chapter. Then use the PlotData.py program to visualize those results."
   ]
  },
  {
   "cell_type": "code",
   "execution_count": 5,
   "id": "56447533-cf22-4c0c-8736-be1b284fd26a",
   "metadata": {},
   "outputs": [
    {
     "name": "stdout",
     "output_type": "stream",
     "text": [
      "abcdefghijklmnopqrstuvwxyz\n"
     ]
    }
   ],
   "source": [
    "# Create aphabet list\n",
    "alphabet = string.ascii_lowercase\n",
    "print(alphabet)"
   ]
  },
  {
   "cell_type": "code",
   "execution_count": 6,
   "id": "49521ac9-474e-4534-a3ce-cd9eb337730c",
   "metadata": {},
   "outputs": [
    {
     "name": "stdout",
     "output_type": "stream",
     "text": [
      "['n', 'j', 'j', 'i', 'b']\n"
     ]
    }
   ],
   "source": [
    "# Randomly choose letters\n",
    "letters = random.choices(alphabet, k=5)\n",
    "print(letters)"
   ]
  },
  {
   "cell_type": "code",
   "execution_count": 7,
   "id": "7bfbe63e-835d-4056-b791-1ed881f222ba",
   "metadata": {},
   "outputs": [
    {
     "name": "stdout",
     "output_type": "stream",
     "text": [
      "njjib\n"
     ]
    }
   ],
   "source": [
    "# Join letters together\n",
    "example_str = ''.join(letters)\n",
    "print(example_str)"
   ]
  },
  {
   "cell_type": "code",
   "execution_count": 8,
   "id": "74144b08-f6ff-4877-9e04-b56deec8e20a",
   "metadata": {},
   "outputs": [],
   "source": [
    "# Define a function which returns a random string of arbitrary length\n",
    "def random_string(length):\n",
    "    return ''.join(random.choices(string.ascii_lowercase, k=length))"
   ]
  },
  {
   "cell_type": "code",
   "execution_count": 9,
   "id": "7d5272f9-b261-4042-b48b-e37f547bcdd0",
   "metadata": {},
   "outputs": [],
   "source": [
    "# Define function which repeats a single letter\n",
    "def single_letter_string(length):\n",
    "    if length <= 1:\n",
    "        return None\n",
    "    else:\n",
    "        return 'a' * length"
   ]
  },
  {
   "cell_type": "code",
   "execution_count": 10,
   "id": "87b04f1f-9e86-4f1d-b077-080e534af732",
   "metadata": {},
   "outputs": [],
   "source": [
    "# Define a function which repeats a single letter except for the first or last place\n",
    "def two_letter_string(length, first=True):\n",
    "    if length <= 1:\n",
    "        return None\n",
    "    else:\n",
    "        if first:\n",
    "            return 'b' + 'a' * (length - 1)\n",
    "        else:\n",
    "            return 'a' * (length - 1) + 'b'"
   ]
  },
  {
   "cell_type": "code",
   "execution_count": 11,
   "id": "63961dee-9c70-4881-a21f-e0440f167084",
   "metadata": {},
   "outputs": [
    {
     "name": "stdout",
     "output_type": "stream",
     "text": [
      "Random: mlnctdnewohngijlzscb\n",
      "Single: aaaaaaaaaaaaaaaaaaaa\n",
      "Single except first: baaaaaaaaaaaaaaaaaaa\n",
      "Single except first: aaaaaaaaaaaaaaaaaaab\n"
     ]
    }
   ],
   "source": [
    "# Print example of 20-letter strings\n",
    "print(f'Random: {random_string(20)}')\n",
    "print(f'Single: {single_letter_string(20)}')\n",
    "print(f'Single except first: {two_letter_string(20)}')\n",
    "print(f'Single except first: {two_letter_string(20, first=False)}')"
   ]
  },
  {
   "cell_type": "code",
   "execution_count": 12,
   "id": "48589873-ead3-45dd-9f2a-d8551485ba24",
   "metadata": {},
   "outputs": [],
   "source": [
    "def compare_string_experiment(s1, s2, k=10000):\n",
    "    \"\"\" Time the comparison of two strings, return time per comparison in ns \"\"\"\n",
    "    start = time.perf_counter_ns()\n",
    "    for i in range(k):\n",
    "        s1 == s2\n",
    "    end = time.perf_counter_ns()\n",
    "    \n",
    "    return (end - start) / k"
   ]
  },
  {
   "cell_type": "code",
   "execution_count": 13,
   "id": "0616de01-d811-4abc-9ea5-45da558e7ee2",
   "metadata": {},
   "outputs": [],
   "source": [
    "# Compare different cases\n",
    "n_arr = np.arange(100, 10000, 100)     # Array of string lengths to test\n",
    "t_ident = np.zeros(n_arr.shape)        # Time array for two identical strings\n",
    "t_diffstart = np.zeros(n_arr.shape)    # Time array for strings where only first letter differs\n",
    "t_diffend = np.zeros(n_arr.shape)      # Time array for strings where only last letter differs\n",
    "t_random = np.zeros(n_arr.shape)       # Time array for two random string\n",
    "\n",
    "# print(f'n_arr: {n_arr}')\n",
    "# print(f't_ident: {t_ident}')\n",
    "# print(f't_diffstart: {t_diffstart}')\n",
    "# print(f't_diffend: {t_diffend}')\n",
    "# print(f't_random: {t_random}')\n",
    "\n",
    "for i, n in enumerate(n_arr):\n",
    "    s_single1 = single_letter_string(n)              # n-length string with only the letter 'a'\n",
    "    s_single2 = single_letter_string(n)              # n-length string with only the letter 'a'\n",
    "    s_diffstart = two_letter_string(n)               # n-length string with first letter 'b', rest 'a'\n",
    "    s_diffend = two_letter_string(n, first=False)    # n-length string with first letter 'a', rest 'b'\n",
    "    s_random1 = random_string(n)                     # n-length string with random letters\n",
    "    s_random2 = random_string(n)                     # n-length string with random letters\n",
    "    \n",
    "    t_ident[i] = compare_string_experiment(s_single1, s_single2)\n",
    "    t_diffstart[i] = compare_string_experiment(s_single1, s_diffstart)\n",
    "    t_diffend[i] = compare_string_experiment(s_single1, s_diffend)\n",
    "    t_random[i] = compare_string_experiment(s_random1, s_random2)"
   ]
  },
  {
   "cell_type": "code",
   "execution_count": 14,
   "id": "e5ac56d6-caf6-43e8-8278-ce5877efd3a6",
   "metadata": {},
   "outputs": [
    {
     "data": {
      "text/plain": [
       "Text(0, 0.5, 'String comparison time [ns]')"
      ]
     },
     "execution_count": 14,
     "metadata": {},
     "output_type": "execute_result"
    },
    {
     "data": {
      "image/png": "[encoded data removed]",
      "text/plain": [
       "<Figure size 640x480 with 1 Axes>"
      ]
     },
     "metadata": {},
     "output_type": "display_data"
    }
   ],
   "source": [
    "# Plot results\n",
    "plt.plot(n_arr, t_ident, label='Two identical strings')\n",
    "plt.plot(n_arr, t_diffstart, label='First letter different')\n",
    "plt.plot(n_arr, t_diffend, label='Last letter different')\n",
    "plt.plot(n_arr, t_random, label='Two random strings')\n",
    "plt.legend()\n",
    "plt.xlabel('String length')\n",
    "plt.ylabel('String comparison time [ns]')"
   ]
  },
  {
   "cell_type": "markdown",
   "id": "1c605fb5-d47b-4280-bb4d-12cb68a5a24c",
   "metadata": {},
   "source": [
    "The results show that comparison time increases approximately linearly with the length of the string when comparing two identical strings, or when comparing strings when the last letter is different. When the two strings are random (almost all letters are different), or when the first letter is different, comparison time appears to be approximately independent of string length. This indicates that the comparison starts at the beginning of the string and stops as soon as two different characters are found. \n",
    "\n",
    "The time complexity is O(N) when comparing when comparing two identical strings, or when comparing strings when the last letter is different.\n",
    "The time complexity is O(1) when comparing when comparing two random strings, or when the first letter is different."
   ]
  },
  {
   "cell_type": "markdown",
   "id": "ddd6f862-dc7a-48b5-a9e5-d0cf320c1c58",
   "metadata": {},
   "source": [
    "## Exercise 2"
   ]
  },
  {
   "cell_type": "markdown",
   "id": "82256530-2d32-46ec-bb3d-27c0ec1d35d7",
   "metadata": {},
   "source": [
    "#### Conduct an experiment to prove that the product of two numbers does not depend on the size of the two numbers being multiplied. Write a program that plots the results of multiplying numbers of various sizes together. HINT: To get a good reading you may want to do more than one of these multiplications and time them as a group since a multiplication happens pretty quickly in a computer. Verify that it truly is a O(1) operation. Do you see any anomalies? It might be explained by Python’s support of large integers. What is the cutoff point for handling multiplications in constant time? Why? Write a program that produces an XML file with your results in the format given in this chapter. Then visualize your results with the PlotData.py program provided in this chapter."
   ]
  },
  {
   "cell_type": "code",
   "execution_count": 24,
   "id": "139fc087-fa04-4327-bba8-c44a53cbe906",
   "metadata": {},
   "outputs": [],
   "source": [
    "# Define a function which generate an arbitrary-length random integer number\n",
    "def random_number(n):\n",
    "    digits = string.digits\n",
    "    random_num_string = random.choices(digits[1:]) + random.choices(digits, k=(n-1))\n",
    "    return int(''.join(random_num_string))"
   ]
  },
  {
   "cell_type": "code",
   "execution_count": 29,
   "id": "1b26616f-2fb5-43a2-a758-df2983bd930a",
   "metadata": {},
   "outputs": [
    {
     "data": {
      "text/plain": [
       "2950652693213990230555568"
      ]
     },
     "execution_count": 29,
     "metadata": {},
     "output_type": "execute_result"
    }
   ],
   "source": [
    "random_number(25)"
   ]
  },
  {
   "cell_type": "code",
   "execution_count": 31,
   "id": "bc3010f5-526b-4cc2-ae73-a785426fd41d",
   "metadata": {},
   "outputs": [],
   "source": [
    "n_arr = np.arange(100, 10000, 100)\n",
    "t_arr = np.zeros(n_arr.shape)\n",
    "k_repeat = 100\n",
    "\n",
    "for i, n in enumerate(n_arr):\n",
    "    num1 = random_number(n)\n",
    "    num2 = random_number(n)\n",
    "    \n",
    "    start = time.perf_counter_ns()\n",
    "    for j in range(k_repeat):\n",
    "        num1 * num2\n",
    "    end = time.perf_counter_ns()\n",
    "    t_arr[i] = (end - start) / k_repeat"
   ]
  },
  {
   "cell_type": "markdown",
   "id": "c199ffb2-6fd2-45eb-aae2-c65a0f13a37a",
   "metadata": {},
   "source": [
    "# Plot results of experiment\n",
    "plt.plot(n_arr, t_arr)\n",
    "plt.xlabel('Number of digits in both numbers')\n",
    "plt.ylabel('Multiplication processing time [ns]')"
   ]
  },
  {
   "cell_type": "markdown",
   "id": "73352086-7328-4255-bee7-b54857303573",
   "metadata": {},
   "source": [
    "The results show that the time complexity is O(N^2) and that the product of two numbers actually DOES depend on the size of the two numbers being multiplied."
   ]
  },
  {
   "cell_type": "markdown",
   "id": "cf68b20e-975c-4f51-976c-1cc4a4704595",
   "metadata": {},
   "source": [
    "## Exercise 3"
   ]
  },
  {
   "cell_type": "markdown",
   "id": "0c5af0ce-f725-4ce3-a02b-6909fdb9fb43",
   "metadata": {},
   "source": [
    "#### Write a recursive function intpow(x, n) that accepts two integers, x and n, and calculates x ^ n. Be sure to include it in a program with several test cases to test that your function works correctly"
   ]
  },
  {
   "cell_type": "code",
   "execution_count": 38,
   "id": "8ee48a4b-f482-4aaa-bd45-b0fb0d2d18a1",
   "metadata": {},
   "outputs": [
    {
     "data": {
      "text/plain": [
       "64"
      ]
     },
     "execution_count": 38,
     "metadata": {},
     "output_type": "execute_result"
    }
   ],
   "source": [
    "def intpow(x, n):\n",
    "    \n",
    "    # base condition\n",
    "    if n == 0:\n",
    "        return 1\n",
    "    \n",
    "    power = intpow(x, n // 2)\n",
    "    \n",
    "    #if odd\n",
    "    if n & 1:\n",
    "        return x * power * power\n",
    "    \n",
    "    #if even\n",
    "    return int(power * power)\n",
    "\n",
    "intpow(4, 3)"
   ]
  },
  {
   "cell_type": "code",
   "execution_count": 39,
   "id": "58f9d127-4b94-4219-bbca-05dc56a2db24",
   "metadata": {},
   "outputs": [
    {
     "data": {
      "text/plain": [
       "16"
      ]
     },
     "execution_count": 39,
     "metadata": {},
     "output_type": "execute_result"
    }
   ],
   "source": [
    "intpow(2, 4)"
   ]
  },
  {
   "cell_type": "markdown",
   "id": "46bc11bc-f3d9-4604-8cc4-c1e7036ca497",
   "metadata": {},
   "source": [
    "## Exercise 4"
   ]
  },
  {
   "cell_type": "markdown",
   "id": "65cf89d6-9df7-4f15-8056-b0cad5080732",
   "metadata": {},
   "source": [
    "#### Write a recursive function that calculates the length of a string. You cannot use the len() function while calculating the length of the string. You must trust the function you write. Put this function in a program that prompts the user to enter a string and then prints the length of that string."
   ]
  },
  {
   "cell_type": "code",
   "execution_count": 43,
   "id": "896e56ef-b9dc-4d6f-a1c7-68ff4e556030",
   "metadata": {},
   "outputs": [
    {
     "name": "stdin",
     "output_type": "stream",
     "text": [
      "Enter a word:  hei\n"
     ]
    },
    {
     "name": "stdout",
     "output_type": "stream",
     "text": [
      "String length is 3\n"
     ]
    }
   ],
   "source": [
    "def count_char(input_string):\n",
    "    \n",
    "    if input_string == \"\":\n",
    "        return 0\n",
    "    else:\n",
    "        return 1 + count_char(input_string[1:])\n",
    "\n",
    "input_string = input(\"Enter a word: \")\n",
    "print(f'String length is {count_char(input_string)}')\n"
   ]
  },
  {
   "cell_type": "code",
   "execution_count": null,
   "id": "118441f7-5710-4a62-a720-5d3d6687d46c",
   "metadata": {},
   "outputs": [],
   "source": []
  }
 ],
 "metadata": {
  "kernelspec": {
   "display_name": "Python 3 (ipykernel)",
   "language": "python",
   "name": "python3"
  },
  "language_info": {
   "codemirror_mode": {
    "name": "ipython",
    "version": 3
   },
   "file_extension": ".py",
   "mimetype": "text/x-python",
   "name": "python",
   "nbconvert_exporter": "python",
   "pygments_lexer": "ipython3",
   "version": "3.10.6"
  }
 },
 "nbformat": 4,
 "nbformat_minor": 5
}
