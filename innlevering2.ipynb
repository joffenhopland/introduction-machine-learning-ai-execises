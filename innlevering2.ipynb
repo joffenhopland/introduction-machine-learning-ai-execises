{
 "cells": [
  {
   "cell_type": "raw",
   "metadata": {},
   "source": [
    "1: Lag en Iterator Class som kan skrive ut Fibonacci-tallene mellom 0 og 1000"
   ]
  },
  {
   "cell_type": "code",
   "execution_count": 118,
   "metadata": {},
   "outputs": [
    {
     "name": "stdout",
     "output_type": "stream",
     "text": [
      "0 1 1 2 3 5 8 13 21 34 55 89 144 233 377 610 987 "
     ]
    }
   ],
   "source": [
    "class FibIterator:                                        \n",
    "    def __init__(self, max):                      \n",
    "        self.max = max\n",
    "\n",
    "    def __iter__(self):                           \n",
    "        self.num1 = 0\n",
    "        self.num2 = 1\n",
    "        return self\n",
    "\n",
    "    def __next__(self):                           \n",
    "        fibNum = self.num1\n",
    "        if fibNum > self.max:\n",
    "            raise StopIteration                   \n",
    "        self.num1, self.num2 = self.num2, self.num1 + self.num2\n",
    "        return fibNum        \n",
    "\n",
    "for num in FibIterator(1000):\n",
    "    print(num, end=' ')"
   ]
  },
  {
   "cell_type": "raw",
   "metadata": {},
   "source": [
    "[0, 1, 1, 2, 3, 5, 8, 13, 21, 34, 55, 89, 144, 233, 377, 610, 987] #forventet output for oppgave 1"
   ]
  },
  {
   "cell_type": "raw",
   "metadata": {},
   "source": [
    "2: Lag en Generator Function som skriver ut Fibonacci-tallene mellom 0 og 1000"
   ]
  },
  {
   "cell_type": "code",
   "execution_count": 119,
   "metadata": {},
   "outputs": [
    {
     "name": "stdout",
     "output_type": "stream",
     "text": [
      "0 1 1 2 3 5 8 13 21 34 55 89 144 233 377 610 987 "
     ]
    }
   ],
   "source": [
    "def fibGenerator(max):\n",
    "        num1, num2 = 0, 1          \n",
    "        while num1 < max:\n",
    "            yield num1          \n",
    "            num1, num2 = num2, num1 + num2 \n",
    "\n",
    "for num in fibGenerator(1000):\n",
    "    print(num, end=' ')          "
   ]
  },
  {
   "cell_type": "raw",
   "metadata": {},
   "source": [
    "[0, 1, 1, 2, 3, 5, 8, 13, 21, 34, 55, 89, 144, 233, 377, 610, 987] #forventet output for oppgave 2"
   ]
  },
  {
   "cell_type": "raw",
   "metadata": {},
   "source": [
    "3: Lag en Class NewInt som arver fra int. Den skal ha en Instance Method is_fibonacci() som returnerer True om tallet er et Fibonacci-tall, False hvis ikke. Generer en liste med NewInt fra 0 til 1000. Lag så en List Comprehension som kun beholder tallene som er Fibonacci ved hjelp av klassen og instansmetoden du lagde."
   ]
  },
  {
   "cell_type": "code",
   "execution_count": 120,
   "metadata": {},
   "outputs": [
    {
     "name": "stdout",
     "output_type": "stream",
     "text": [
      "[0, 1, 2, 3, 5, 8, 13, 21, 34, 55, 89, 144, 233, 377, 610, 987]\n"
     ]
    }
   ],
   "source": [
    "import math\n",
    "\n",
    "class NewInt(int):\n",
    "\n",
    "    def __init__(self, num):\n",
    "        self.num = num\n",
    "\n",
    "    def is_Perfect_Square(self):\n",
    "        num = self.num\n",
    "        side = int(math.sqrt(num))\n",
    "        return side * side == num\n",
    "\n",
    "    def is_fibonacci(self):\n",
    "        num = self.num\n",
    "        return NewInt(5 * num * num + 4).is_Perfect_Square() or NewInt(5 * num * num - 4).is_Perfect_Square()\n",
    "\n",
    "\n",
    "fib_list = [i for i in range(0, 1000) if NewInt(i).is_fibonacci()]\n",
    "print(fib_list)"
   ]
  },
  {
   "cell_type": "raw",
   "metadata": {},
   "source": [
    "[0, 1, 2, 3, 5, 8, 13, 21, 34, 55, 89, 144, 233, 377, 610, 987] #forventet output for oppgave 3"
   ]
  },
  {
   "cell_type": "raw",
   "metadata": {},
   "source": [
    "4: Lag en liste int_list med NewInt fra 0 til 100 000. Lag deretter et set() fib_set med Fibonacci-tallene mellom 0 og 100 000 med fremgangsmåte du selv velger. Lag en List Comprehension som sjekker int_list mot fib_set. Sammenlign deretter performance mot klassen og metoden du lagde i oppgave 3 for å se hva som er raskest.  Tips: Sjekk performance med %%timeit i en notebook-celle."
   ]
  },
  {
   "cell_type": "code",
   "execution_count": 128,
   "metadata": {},
   "outputs": [],
   "source": [
    "import math\n",
    "import time\n",
    "import timeit\n",
    "\n",
    "\n",
    "class NewInt(int):\n",
    "\n",
    "    def __init__(self, num):\n",
    "        self.num = num\n",
    "\n",
    "    def is_Perfect_Square(self):\n",
    "        num = self.num\n",
    "        side = int(math.sqrt(num))\n",
    "        return side * side == num\n",
    "\n",
    "    def is_fibonacci(self):\n",
    "        num = self.num\n",
    "        return NewInt(5 * num * num + 4).is_Perfect_Square() or NewInt(5 * num * num - 4).is_Perfect_Square()"
   ]
  },
  {
   "cell_type": "code",
   "execution_count": 129,
   "metadata": {},
   "outputs": [],
   "source": [
    "fib_list = [i for i in range(0, 100000) if NewInt(i).is_fibonacci()]\n",
    "fib_set = set(fib_list)\n",
    "int_list = [NewInt(i) for i in range(0, 100000)]\n",
    "new_fib_list = [i for i in int_list if int_list[i] in fib_set]"
   ]
  },
  {
   "cell_type": "code",
   "execution_count": 138,
   "metadata": {},
   "outputs": [
    {
     "name": "stdout",
     "output_type": "stream",
     "text": [
      "123 ms ± 847 µs per loop (mean ± std. dev. of 7 runs, 10 loops each)\n"
     ]
    }
   ],
   "source": [
    "%%timeit\n",
    "fib_list = [i for i in range(0, 100000) if NewInt(i).is_fibonacci()]"
   ]
  },
  {
   "cell_type": "code",
   "execution_count": 139,
   "metadata": {},
   "outputs": [
    {
     "name": "stdout",
     "output_type": "stream",
     "text": [
      "4.66 ms ± 250 µs per loop (mean ± std. dev. of 7 runs, 100 loops each)\n"
     ]
    }
   ],
   "source": [
    "%%timeit\n",
    "new_fib_list = [i for i in int_list if int_list[i] in fib_set]"
   ]
  },
  {
   "cell_type": "raw",
   "metadata": {},
   "source": [
    "Vi ser at å sjekke int_list mot fib_set er raskest."
   ]
  }
 ],
 "metadata": {
  "kernelspec": {
   "display_name": "Python 3 (ipykernel)",
   "language": "python",
   "name": "python3"
  },
  "language_info": {
   "codemirror_mode": {
    "name": "ipython",
    "version": 3
   },
   "file_extension": ".py",
   "mimetype": "text/x-python",
   "name": "python",
   "nbconvert_exporter": "python",
   "pygments_lexer": "ipython3",
   "version": "3.10.6"
  }
 },
 "nbformat": 4,
 "nbformat_minor": 4
}
