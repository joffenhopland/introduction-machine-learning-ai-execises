{
 "cells": [
  {
   "cell_type": "raw",
   "metadata": {},
   "source": [
    "1: Filen \"Personer.dta\" skal leses inn i en list persons. Filen inneholder 100 000 rader med fiktive personalia på formatet \"etternavn;fornavn;adresse;postnummer;poststed\". Dette skal gjøres i native Python, dvs. Numpy/Pandas eller andre libs skal ikke brukes. Legg hver rad inn i en passende datastruktur, feks. tuple, dict, list eller namedtuple. Skriv så ut de 5 siste radene i en celle."
   ]
  },
  {
   "cell_type": "code",
   "execution_count": 50,
   "metadata": {},
   "outputs": [],
   "source": [
    "persons = []\n",
    "with open('Personer.dta', encoding='iso-8859-1') as file:     \n",
    "    for line in file:\n",
    "        persons.append(line)"
   ]
  },
  {
   "cell_type": "code",
   "execution_count": 51,
   "metadata": {},
   "outputs": [
    {
     "name": "stdout",
     "output_type": "stream",
     "text": [
      "['STORLIEN;HANS-MAGNUS;TALLSLETTA 57;3849;VRÅLIOSEN\\n', 'ASAIPPILLAI;JO GUDBRAND;BERGERUD 68;4371;EGERSUND\\n', 'TOLLEFSEN;ZULFIQAR ALI;EIRIK JARLS GATE 79;1305;HASLUM\\n', 'ELI;KNUT OLAF;RUSTAD S 14;9775;GAMVIK\\n', 'NYRUD;ERIK NORØ;GJERDHAUGVEGEN 3;6512;KRISTIANSUND N']\n"
     ]
    }
   ],
   "source": [
    "print(persons[-5:])"
   ]
  },
  {
   "cell_type": "raw",
   "metadata": {},
   "source": [
    "2: Hvor mange unike postnummer finnes i \"Personer.dta\"?"
   ]
  },
  {
   "cell_type": "code",
   "execution_count": 52,
   "metadata": {},
   "outputs": [
    {
     "name": "stdout",
     "output_type": "stream",
     "text": [
      "Number of unique post codes: 2824\n"
     ]
    }
   ],
   "source": [
    "post_codes = []\n",
    "for address in persons:\n",
    "    split_address = address.split(';')\n",
    "    post_codes.append(split_address[-2])\n",
    "\n",
    "unique_post_codes = []\n",
    "num_unique_post_codes = 0\n",
    "for post_code in post_codes:\n",
    "    if post_code not in unique_post_codes:\n",
    "        unique_post_codes.append(post_code)\n",
    "        num_unique_post_codes += 1\n",
    "        \n",
    "print(f'Number of unique post codes: {num_unique_post_codes}')"
   ]
  },
  {
   "cell_type": "raw",
   "metadata": {},
   "source": [
    "3: Hva er de 10 vanligste etternavnene (som forekommer flest ganger) i \"Personer.dta\"?"
   ]
  },
  {
   "cell_type": "code",
   "execution_count": 53,
   "metadata": {},
   "outputs": [
    {
     "name": "stdout",
     "output_type": "stream",
     "text": [
      "[('ÅSBAKK', 83), ('BERGERSEN', 78), ('DANIELSEN', 77), ('LUTHER', 77), ('TRANE', 77), ('LUNDBERGSEN', 77), ('MJØEN', 76), ('LAM', 75), ('KRANGSÅS', 75), ('IGLAND', 75)]\n"
     ]
    }
   ],
   "source": [
    "from collections import Counter\n",
    "\n",
    "lastnames = []\n",
    "for lastname in persons:\n",
    "    split_address = lastname.split(';')\n",
    "    lastnames.append(split_address[0])\n",
    "    \n",
    "count = Counter(lastnames)\n",
    "top_10_lastnames = count.most_common(10)\n",
    "print(top_10_lastnames)"
   ]
  },
  {
   "cell_type": "raw",
   "metadata": {},
   "source": [
    "4: Implementer sorteringsalgoritmen Heap Sort og sorter listen \"persons\" ut fra etternavn. Ferdig implementerte funksjoner som sorted() skal ikke benyttes. Skriv så ut persondata for de fem personene med index [0,20000,40000,60000,80000] fra den sorterte listen."
   ]
  },
  {
   "cell_type": "code",
   "execution_count": 54,
   "metadata": {},
   "outputs": [
    {
     "name": "stdout",
     "output_type": "stream",
     "text": [
      "Index 0: AAKVIK;ANETTE;BAKLIEN 11;1360;NESBRU\n",
      "\n",
      "Index 2000: ALFREDSEN;JON REMY;FLESNES 59;3738;SKIEN\n",
      "\n",
      "Index 4000: ASAIPPILLAI;JOHAN-KRISTIAN;BRULØKKEN 49;5723;BOLSTADØYRI\n",
      "\n",
      "Index 6000: BELOV;MAY KRISTIN;BASTESVINGEN 2;6064;HADDAL\n",
      "\n",
      "Index 8000: BJERKNES;THEVAKAN;TRINERUD 114;9070;OLDERDALEN\n",
      "\n"
     ]
    }
   ],
   "source": [
    "def heapify(lst, heap_size, i):\n",
    "    largest = i  # Initialize largest as root\n",
    "    left = 2 * i + 1  # left = 2*i + 1\n",
    "    right = 2 * i + 2  # right = 2*i + 2\n",
    "    \n",
    " # See if left child of root exists and is\n",
    " # greater than root\n",
    "    if left < heap_size and lst[i] < lst[left]:\n",
    "        largest = left\n",
    " \n",
    " # See if right child of root exists and is\n",
    " # greater than root\n",
    "    if right < heap_size and lst[largest] < lst[right]:\n",
    "        largest = right\n",
    " \n",
    " # Change root, if needed\n",
    "    if largest != i:\n",
    "        (lst[i], lst[largest]) = (lst[largest], lst[i])  # swap\n",
    " \n",
    " # Heapify the root.\n",
    "        heapify(lst, heap_size, largest)\n",
    "    \n",
    "\n",
    " # The main function to sort an array of given size\n",
    "def heap_sort(lst):\n",
    "    heap_size = len(lst)\n",
    "    \n",
    " # Since last parent will be at ((n//2)-1) we can start at that location.\n",
    "    for i in range(heap_size // 2 - 1, -1, -1):\n",
    "        heapify(lst, heap_size, i)\n",
    " \n",
    " # One by one extract elements\n",
    "    for i in range(heap_size - 1, 0, -1):\n",
    "        (lst[i], lst[0]) = (lst[0], lst[i])  # swap\n",
    "        heapify(lst, i, 0)\n",
    "\n",
    " # sort\n",
    "heap_sort(persons)\n",
    "\n",
    "print(f'Index 0: {persons[0]}') \n",
    "print(f'Index 2000: {persons[2000]}') \n",
    "print(f'Index 4000: {persons[4000]}') \n",
    "print(f'Index 6000: {persons[6000]}') \n",
    "print(f'Index 8000: {persons[8000]}') "
   ]
  },
  {
   "cell_type": "code",
   "execution_count": null,
   "metadata": {},
   "outputs": [],
   "source": []
  }
 ],
 "metadata": {
  "kernelspec": {
   "display_name": "Python 3 (ipykernel)",
   "language": "python",
   "name": "python3"
  },
  "language_info": {
   "codemirror_mode": {
    "name": "ipython",
    "version": 3
   },
   "file_extension": ".py",
   "mimetype": "text/x-python",
   "name": "python",
   "nbconvert_exporter": "python",
   "pygments_lexer": "ipython3",
   "version": "3.10.6"
  }
 },
 "nbformat": 4,
 "nbformat_minor": 4
}
